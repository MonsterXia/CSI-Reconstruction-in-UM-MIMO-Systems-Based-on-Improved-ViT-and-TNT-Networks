{
 "cells": [
  {
   "cell_type": "code",
   "execution_count": 152,
   "outputs": [],
   "source": [
    "import os\n",
    "import torch\n",
    "import warnings\n",
    "import torch.nn as nn\n",
    "from torch.utils.data import DataLoader\n",
    "from enumber import *\n",
    "from MyDataSet import MyDataset\n",
    "from Transformer_ViT_Train import test\n",
    "from Eval_tool import db_conversion\n",
    "from fvcore.nn import FlopCountAnalysis\n",
    "import numpy as np\n",
    "import matplotlib.pyplot as plt\n",
    "from torchvision.transforms import Normalize\n",
    "from matplotlib.gridspec import GridSpec\n",
    "\n",
    "warnings.filterwarnings(\"ignore\")\n",
    "\n",
    "output_list = []\n",
    "flops_list = []\n",
    "\n",
    "batch_size = 128\n",
    "lr = 0.001\n",
    "momentum = 0.9\n",
    "num_epochs = 10\n",
    "img_channels = 2\n",
    "img_height = 32\n",
    "img_width = 32\n",
    "device = torch.device(\"cuda:0\" if torch.cuda.is_available() else \"cpu\")\n",
    "\n",
    "input_tensor = torch.rand(1, 2, 32, 32)\n",
    "input_tensor = input_tensor.to(device)"
   ],
   "metadata": {
    "collapsed": false,
    "ExecuteTime": {
     "start_time": "2023-06-04T17:49:41.357428Z",
     "end_time": "2023-06-04T17:49:41.377372Z"
    }
   }
  },
  {
   "cell_type": "code",
   "execution_count": 123,
   "outputs": [],
   "source": [
    "envir = 'indoor'\n",
    "x_test = MyDataset(dataset_path='../data/DATA_Htestin.mat', img_channels=img_channels, img_height=img_height,\n",
    "                           img_width=img_width)"
   ],
   "metadata": {
    "collapsed": false,
    "ExecuteTime": {
     "start_time": "2023-06-04T17:39:20.000440Z",
     "end_time": "2023-06-04T17:39:22.161107Z"
    }
   }
  },
  {
   "cell_type": "code",
   "execution_count": 124,
   "outputs": [],
   "source": [
    "data = x_test[0]"
   ],
   "metadata": {
    "collapsed": false,
    "ExecuteTime": {
     "start_time": "2023-06-04T17:39:22.163102Z",
     "end_time": "2023-06-04T17:39:22.197011Z"
    }
   }
  },
  {
   "cell_type": "code",
   "execution_count": 125,
   "outputs": [
    {
     "data": {
      "text/plain": "torch.Size([2, 32, 32])"
     },
     "execution_count": 125,
     "metadata": {},
     "output_type": "execute_result"
    }
   ],
   "source": [
    "data[0].shape"
   ],
   "metadata": {
    "collapsed": false,
    "ExecuteTime": {
     "start_time": "2023-06-04T17:39:22.197011Z",
     "end_time": "2023-06-04T17:39:22.209978Z"
    }
   }
  },
  {
   "cell_type": "code",
   "execution_count": 126,
   "outputs": [
    {
     "data": {
      "text/plain": "torch.Size([2, 32, 32])"
     },
     "execution_count": 126,
     "metadata": {},
     "output_type": "execute_result"
    }
   ],
   "source": [
    "input = data[0]\n",
    "input.shape"
   ],
   "metadata": {
    "collapsed": false,
    "ExecuteTime": {
     "start_time": "2023-06-04T17:39:22.209978Z",
     "end_time": "2023-06-04T17:39:22.256370Z"
    }
   }
  },
  {
   "cell_type": "code",
   "execution_count": 127,
   "outputs": [
    {
     "data": {
      "text/plain": "torch.Size([1, 2, 32, 32])"
     },
     "execution_count": 127,
     "metadata": {},
     "output_type": "execute_result"
    }
   ],
   "source": [
    "input = input.unsqueeze(0)\n",
    "input = input.to(device)\n",
    "input.shape"
   ],
   "metadata": {
    "collapsed": false,
    "ExecuteTime": {
     "start_time": "2023-06-04T17:39:22.224941Z",
     "end_time": "2023-06-04T17:39:22.256370Z"
    }
   }
  },
  {
   "cell_type": "code",
   "execution_count": 128,
   "outputs": [],
   "source": [
    "encoded_dim = 512\n",
    "file_path = \"../model/TNT/TNT_{}_{}.pth\".format(envir, encoded_dim)"
   ],
   "metadata": {
    "collapsed": false,
    "ExecuteTime": {
     "start_time": "2023-06-04T17:39:22.242408Z",
     "end_time": "2023-06-04T17:39:22.257368Z"
    }
   }
  },
  {
   "cell_type": "code",
   "execution_count": 129,
   "outputs": [
    {
     "name": "stdout",
     "output_type": "stream",
     "text": [
      "Model exist, try to load model!\n",
      "Load model successfully!\n"
     ]
    }
   ],
   "source": [
    "if os.path.isfile(file_path):\n",
    "    print(\"Model exist, try to load model!\")\n",
    "    model = torch.load(file_path)\n",
    "    model = model.to(device)\n",
    "    print(\"Load model successfully!\")\n",
    "else:\n",
    "    print(\"model no exist! Check again!\")"
   ],
   "metadata": {
    "collapsed": false,
    "ExecuteTime": {
     "start_time": "2023-06-04T17:39:22.258365Z",
     "end_time": "2023-06-04T17:39:22.428950Z"
    }
   }
  },
  {
   "cell_type": "code",
   "execution_count": 130,
   "outputs": [],
   "source": [
    "output = model(input)"
   ],
   "metadata": {
    "collapsed": false,
    "ExecuteTime": {
     "start_time": "2023-06-04T17:39:22.430945Z",
     "end_time": "2023-06-04T17:39:22.664358Z"
    }
   }
  },
  {
   "cell_type": "code",
   "execution_count": 131,
   "outputs": [
    {
     "data": {
      "text/plain": "torch.Size([1, 2, 32, 32])"
     },
     "execution_count": 131,
     "metadata": {},
     "output_type": "execute_result"
    }
   ],
   "source": [
    "output.shape"
   ],
   "metadata": {
    "collapsed": false,
    "ExecuteTime": {
     "start_time": "2023-06-04T17:39:22.665356Z",
     "end_time": "2023-06-04T17:39:22.682309Z"
    }
   }
  },
  {
   "cell_type": "code",
   "execution_count": 132,
   "outputs": [],
   "source": [
    "input = input.squeeze().to(\"cpu\")\n",
    "output = output.squeeze().to(\"cpu\")"
   ],
   "metadata": {
    "collapsed": false,
    "ExecuteTime": {
     "start_time": "2023-06-04T17:39:22.680316Z",
     "end_time": "2023-06-04T17:39:22.723203Z"
    }
   }
  },
  {
   "cell_type": "code",
   "execution_count": 133,
   "outputs": [
    {
     "name": "stdout",
     "output_type": "stream",
     "text": [
      "torch.Size([2, 32, 32])\n"
     ]
    },
    {
     "data": {
      "text/plain": "torch.Size([2, 32, 32])"
     },
     "execution_count": 133,
     "metadata": {},
     "output_type": "execute_result"
    }
   ],
   "source": [
    "print(input.shape)\n",
    "output.shape"
   ],
   "metadata": {
    "collapsed": false,
    "ExecuteTime": {
     "start_time": "2023-06-04T17:39:22.695276Z",
     "end_time": "2023-06-04T17:39:22.733689Z"
    }
   }
  },
  {
   "cell_type": "code",
   "execution_count": 134,
   "outputs": [],
   "source": [
    "real_input = input[0]\n",
    "imag_input = input[1]\n",
    "abs_input = real_input**2 + imag_input**2\n",
    "\n",
    "real_output = output[0]\n",
    "imag_output = output[1]\n",
    "abs_output = real_output**2 + imag_output**2"
   ],
   "metadata": {
    "collapsed": false,
    "ExecuteTime": {
     "start_time": "2023-06-04T17:39:22.709237Z",
     "end_time": "2023-06-04T17:39:22.740671Z"
    }
   }
  },
  {
   "cell_type": "code",
   "execution_count": 135,
   "outputs": [
    {
     "data": {
      "text/plain": "torch.Size([1, 32, 32])"
     },
     "execution_count": 135,
     "metadata": {},
     "output_type": "execute_result"
    }
   ],
   "source": [
    "real_input = real_input.unsqueeze(0)\n",
    "imag_input = imag_input.unsqueeze(0)\n",
    "abs_input = abs_input.unsqueeze(0)\n",
    "\n",
    "real_output = real_output.unsqueeze(0)\n",
    "imag_output = imag_output.unsqueeze(0)\n",
    "abs_output = abs_output.unsqueeze(0)\n",
    "\n",
    "normalize = Normalize(mean=[0.5], std=[0.5])\n",
    "abs_output.shape"
   ],
   "metadata": {
    "collapsed": false,
    "ExecuteTime": {
     "start_time": "2023-06-04T17:39:26.098746Z",
     "end_time": "2023-06-04T17:39:26.110715Z"
    }
   }
  },
  {
   "cell_type": "code",
   "execution_count": 149,
   "outputs": [],
   "source": [
    "real_gray_input = normalize((real_input*255).type(torch.float32)).type(torch.uint8)\n",
    "imag_gray_input = normalize((imag_input*255).type(torch.float32)).type(torch.uint8)\n",
    "abs_gray_input = normalize((abs_input*255).type(torch.float32)).type(torch.uint8)\n",
    "\n",
    "real_gray_output = normalize((real_output*255).type(torch.float32)).type(torch.uint8)\n",
    "imag_gray_output = normalize((imag_output*255).type(torch.float32)).type(torch.uint8)\n",
    "abs_gray_output = normalize((abs_output*255).type(torch.float32)).type(torch.uint8)"
   ],
   "metadata": {
    "collapsed": false,
    "ExecuteTime": {
     "start_time": "2023-06-04T17:49:06.052977Z",
     "end_time": "2023-06-04T17:49:06.069930Z"
    }
   }
  },
  {
   "cell_type": "code",
   "execution_count": 150,
   "outputs": [
    {
     "data": {
      "text/plain": "<Figure size 1000x300 with 3 Axes>",
      "image/png": "[encoded data removed]"
     },
     "metadata": {},
     "output_type": "display_data"
    }
   ],
   "source": [
    "fig, axs = plt.subplots(1, 3, figsize=(10, 3))\n",
    "axs[0].imshow(real_gray_input.squeeze().numpy(), cmap='gray')\n",
    "axs[0].set_title('Real')\n",
    "axs[0].axis('off')\n",
    "axs[1].imshow(imag_gray_input.squeeze().numpy(), cmap='gray')\n",
    "axs[1].set_title('Imaginary')\n",
    "axs[1].axis('off')\n",
    "axs[2].imshow(abs_gray_input.squeeze().numpy(), cmap='gray')\n",
    "axs[2].set_title('Magnitude')\n",
    "axs[2].axis('off')\n",
    "plt.show()"
   ],
   "metadata": {
    "collapsed": false,
    "ExecuteTime": {
     "start_time": "2023-06-04T17:49:11.898176Z",
     "end_time": "2023-06-04T17:49:12.423658Z"
    }
   }
  },
  {
   "cell_type": "code",
   "execution_count": 159,
   "outputs": [
    {
     "data": {
      "text/plain": "<Figure size 1000x600 with 9 Axes>",
      "image/png": "[encoded data removed]"
     },
     "metadata": {},
     "output_type": "display_data"
    }
   ],
   "source": [
    "gs = GridSpec(3, 3, figure=plt.figure(figsize=(10, 6)))\n",
    "\n",
    "ax1 = plt.subplot(gs[0, 0])\n",
    "ax1.imshow(real_gray_input.squeeze().numpy(), cmap='gray')\n",
    "ax1.set_title('Real Input')\n",
    "ax1.axis('off')\n",
    "\n",
    "ax2 = plt.subplot(gs[0, 1])\n",
    "ax2.imshow(imag_gray_input.squeeze().numpy(), cmap='gray')\n",
    "ax2.set_title('Imaginary Input')\n",
    "ax2.axis('off')\n",
    "\n",
    "ax3 = plt.subplot(gs[0, 2])\n",
    "ax3.imshow(abs_gray_input.squeeze().numpy(), cmap='gray')\n",
    "ax3.set_title('Magnitude Input')\n",
    "ax3.axis('off')\n",
    "\n",
    "ax4 = plt.subplot(gs[1, 0])\n",
    "ax4.imshow(real_gray_output.squeeze().numpy(), cmap='gray')\n",
    "ax4.set_title('Real Output')\n",
    "ax4.axis('off')\n",
    "\n",
    "ax5 = plt.subplot(gs[1, 1])\n",
    "ax5.imshow(imag_gray_output.squeeze().numpy(), cmap='gray')\n",
    "ax5.set_title('Imaginary Output')\n",
    "ax5.axis('off')\n",
    "\n",
    "ax6 = plt.subplot(gs[1, 2])\n",
    "ax6.imshow(abs_gray_output.squeeze().numpy(), cmap='gray')\n",
    "ax6.set_title('Magnitude Output')\n",
    "ax6.axis('off')\n",
    "\n",
    "ax7 = plt.subplot(gs[2, 0])\n",
    "ax7.imshow(real_gray_input.squeeze().numpy(), cmap='gray')\n",
    "ax7.set_title('Real Input')\n",
    "ax7.axis('off')\n",
    "\n",
    "ax8 = plt.subplot(gs[2, 1])\n",
    "ax8.imshow(imag_gray_input.squeeze().numpy(), cmap='gray')\n",
    "ax8.set_title('Imaginary Input')\n",
    "ax8.axis('off')\n",
    "\n",
    "ax9 = plt.subplot(gs[2, 2])\n",
    "ax9.imshow(abs_gray_input.squeeze().numpy(), cmap='gray')\n",
    "ax9.set_title('Magnitude Input')\n",
    "ax9.axis('off')\n",
    "\n",
    "plt.suptitle('Input and Output Images', y=0.95, fontsize=16)\n",
    "plt.tight_layout()\n",
    "plt.show()"
   ],
   "metadata": {
    "collapsed": false,
    "ExecuteTime": {
     "start_time": "2023-06-04T20:45:50.352922Z",
     "end_time": "2023-06-04T20:45:50.875299Z"
    }
   }
  }
 ],
 "metadata": {
  "kernelspec": {
   "display_name": "Python 3",
   "language": "python",
   "name": "python3"
  },
  "language_info": {
   "codemirror_mode": {
    "name": "ipython",
    "version": 2
   },
   "file_extension": ".py",
   "mimetype": "text/x-python",
   "name": "python",
   "nbconvert_exporter": "python",
   "pygments_lexer": "ipython2",
   "version": "2.7.6"
  }
 },
 "nbformat": 4,
 "nbformat_minor": 0
}
